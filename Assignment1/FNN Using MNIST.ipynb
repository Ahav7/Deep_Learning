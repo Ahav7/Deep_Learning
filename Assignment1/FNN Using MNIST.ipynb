{
  "cells": [
    {
      "cell_type": "code",
      "source": [
        "import torch\n",
        "import torch.nn as nn\n",
        "import torch.optim as optim\n",
        "from torchvision.datasets import MNIST\n",
        "from torchvision.transforms import ToTensor\n",
        "from torch.utils.data import DataLoader\n",
        "import matplotlib.pyplot as plt\n",
        "\n",
        "\n",
        "# Define FNN model\n",
        "class FNN(nn.Module):\n",
        "    def __init__(self):\n",
        "        super(FNN, self).__init__()\n",
        "        self.fc1 = nn.Linear(784, 128)\n",
        "        self.fc2 = nn.Linear(128, 64)\n",
        "        self.fc3 = nn.Linear(64, 10)\n",
        "        self.relu = nn.ReLU()\n",
        "        self.softmax = nn.Softmax(dim=1)\n",
        "        \n",
        "    def forward(self, x):\n",
        "        x = x.view(-1, 784)\n",
        "        x = self.relu(self.fc1(x))\n",
        "        x = self.relu(self.fc2(x))\n",
        "        x = self.fc3(x)\n",
        "        x = self.softmax(x)\n",
        "        return x\n",
        "\n",
        "# Load MNIST data\n",
        "train_data = MNIST('data', train=True, download=True, transform=ToTensor())\n",
        "test_data = MNIST('data', train=False, download=True, transform=ToTensor())\n",
        "\n",
        "# Define dataloader\n",
        "train_loader = DataLoader(train_data, batch_size=64, shuffle=True)\n",
        "test_loader = DataLoader(test_data, batch_size=64, shuffle=False)\n",
        "\n",
        "# Define model, loss function, and optimizer\n",
        "model = FNN()\n",
        "criterion = nn.CrossEntropyLoss()\n",
        "optimizer = optim.Adam(model.parameters(), lr=0.001)\n",
        "print(model)\n",
        "\n",
        "# Train model\n",
        "train_loss = []\n",
        "test_loss = []\n",
        "num_epochs = 30\n",
        "for epoch in range(num_epochs):\n",
        "    running_train_loss = 0.0\n",
        "    running_test_loss = 0.0\n",
        "    for i, (inputs, labels) in enumerate(train_loader):\n",
        "        optimizer.zero_grad()\n",
        "        outputs = model(inputs)\n",
        "        loss = criterion(outputs, labels)\n",
        "        loss.backward()\n",
        "        optimizer.step()\n",
        "        running_train_loss += loss.item()\n",
        "    train_loss.append(running_train_loss / len(train_loader))\n",
        "    with torch.no_grad():\n",
        "        for inputs, labels in test_loader:\n",
        "            outputs = model(inputs)\n",
        "            loss = criterion(outputs, labels)\n",
        "            running_test_loss += loss.item()\n",
        "        test_loss.append(running_test_loss / len(test_loader))\n",
        "    print(f'Epoch {epoch + 1}/{num_epochs}, Train Loss: {train_loss[-1]:.4f}, Test Loss: {test_loss[-1]:.4f}')\n",
        "\n",
        "# Graph Plots\n",
        "plt.plot(train_loss, label='Training Loss')\n",
        "plt.plot(test_loss, label='Test Loss')\n",
        "plt.legend()\n",
        "plt.xlabel('Training Iterations')\n",
        "plt.ylabel('Loss')\n",
        "plt.show()\n"
      ],
      "metadata": {
        "colab": {
          "base_uri": "https://localhost:8080/",
          "height": 921
        },
        "id": "l7yUNuzhn3bR",
        "outputId": "ffa6336d-ff08-4191-b107-6c9181930152"
      },
      "execution_count": 6,
      "outputs": [
        {
          "output_type": "stream",
          "name": "stdout",
          "text": [
            "FNN(\n",
            "  (fc1): Linear(in_features=784, out_features=128, bias=True)\n",
            "  (fc2): Linear(in_features=128, out_features=64, bias=True)\n",
            "  (fc3): Linear(in_features=64, out_features=10, bias=True)\n",
            "  (relu): ReLU()\n",
            "  (softmax): Softmax(dim=1)\n",
            ")\n",
            "Epoch 1/30, Train Loss: 1.6823, Test Loss: 1.6131\n",
            "Epoch 2/30, Train Loss: 1.6068, Test Loss: 1.5994\n",
            "Epoch 3/30, Train Loss: 1.5270, Test Loss: 1.5069\n",
            "Epoch 4/30, Train Loss: 1.5024, Test Loss: 1.5022\n",
            "Epoch 5/30, Train Loss: 1.4952, Test Loss: 1.4955\n",
            "Epoch 6/30, Train Loss: 1.4913, Test Loss: 1.4960\n",
            "Epoch 7/30, Train Loss: 1.4872, Test Loss: 1.4952\n",
            "Epoch 8/30, Train Loss: 1.4854, Test Loss: 1.4907\n",
            "Epoch 9/30, Train Loss: 1.4833, Test Loss: 1.4933\n",
            "Epoch 10/30, Train Loss: 1.4814, Test Loss: 1.4896\n",
            "Epoch 11/30, Train Loss: 1.4800, Test Loss: 1.4877\n",
            "Epoch 12/30, Train Loss: 1.4790, Test Loss: 1.4890\n",
            "Epoch 13/30, Train Loss: 1.4777, Test Loss: 1.4848\n",
            "Epoch 14/30, Train Loss: 1.4763, Test Loss: 1.4850\n",
            "Epoch 15/30, Train Loss: 1.4760, Test Loss: 1.4849\n",
            "Epoch 16/30, Train Loss: 1.4756, Test Loss: 1.4852\n",
            "Epoch 17/30, Train Loss: 1.4740, Test Loss: 1.4863\n",
            "Epoch 18/30, Train Loss: 1.4745, Test Loss: 1.4881\n",
            "Epoch 19/30, Train Loss: 1.4738, Test Loss: 1.4852\n",
            "Epoch 20/30, Train Loss: 1.4728, Test Loss: 1.4838\n",
            "Epoch 21/30, Train Loss: 1.4724, Test Loss: 1.4856\n",
            "Epoch 22/30, Train Loss: 1.4723, Test Loss: 1.4830\n",
            "Epoch 23/30, Train Loss: 1.4714, Test Loss: 1.4848\n",
            "Epoch 24/30, Train Loss: 1.4716, Test Loss: 1.4873\n",
            "Epoch 25/30, Train Loss: 1.4709, Test Loss: 1.4840\n",
            "Epoch 26/30, Train Loss: 1.4707, Test Loss: 1.4829\n",
            "Epoch 27/30, Train Loss: 1.4708, Test Loss: 1.4835\n",
            "Epoch 28/30, Train Loss: 1.4705, Test Loss: 1.4830\n",
            "Epoch 29/30, Train Loss: 1.4706, Test Loss: 1.4839\n",
            "Epoch 30/30, Train Loss: 1.4702, Test Loss: 1.4853\n"
          ]
        },
        {
          "output_type": "display_data",
          "data": {
            "text/plain": [
              "<Figure size 432x288 with 1 Axes>"
            ],
            "image/png": "[encoded data removed]"
          },
          "metadata": {
            "needs_background": "light"
          }
        }
      ]
    },
    {
      "cell_type": "code",
      "execution_count": null,
      "metadata": {
        "id": "V2vEttIQzavf"
      },
      "outputs": [],
      "source": []
    },
    {
      "cell_type": "code",
      "execution_count": null,
      "metadata": {
        "id": "1CZBIqbQzRNh"
      },
      "outputs": [],
      "source": []
    },
    {
      "cell_type": "code",
      "execution_count": 6,
      "metadata": {
        "id": "v3RgvTndzfHS"
      },
      "outputs": [],
      "source": []
    },
    {
      "cell_type": "code",
      "execution_count": 6,
      "metadata": {
        "id": "uPnvglIKzpEW"
      },
      "outputs": [],
      "source": []
    },
    {
      "cell_type": "code",
      "execution_count": 6,
      "metadata": {
        "id": "BtDJwMlDz-mq"
      },
      "outputs": [],
      "source": []
    },
    {
      "cell_type": "code",
      "execution_count": 6,
      "metadata": {
        "id": "QXp4og6F1olT"
      },
      "outputs": [],
      "source": []
    },
    {
      "cell_type": "code",
      "execution_count": 6,
      "metadata": {
        "id": "_qQB4YQI1zhv"
      },
      "outputs": [],
      "source": []
    }
  ],
  "metadata": {
    "colab": {
      "provenance": []
    },
    "kernelspec": {
      "display_name": "Python 3",
      "name": "python3"
    },
    "language_info": {
      "name": "python"
    }
  },
  "nbformat": 4,
  "nbformat_minor": 0
}